{
 "cells": [
  {
   "cell_type": "code",
   "execution_count": 2,
   "metadata": {},
   "outputs": [],
   "source": [
    "import numpy as np"
   ]
  },
  {
   "cell_type": "markdown",
   "metadata": {},
   "source": [
    "1. Đọc Dữ Liệu Từ File CSV"
   ]
  },
  {
   "cell_type": "code",
   "execution_count": 3,
   "metadata": {},
   "outputs": [
    {
     "ename": "FileNotFoundError",
     "evalue": "[Errno 2] No such file or directory: 'D:/Python nâng cao/Lab 2/DATA/diem_hoc_phan.csv'",
     "output_type": "error",
     "traceback": [
      "\u001b[1;31m---------------------------------------------------------------------------\u001b[0m",
      "\u001b[1;31mFileNotFoundError\u001b[0m                         Traceback (most recent call last)",
      "Cell \u001b[1;32mIn[3], line 2\u001b[0m\n\u001b[0;32m      1\u001b[0m diem \u001b[38;5;241m=\u001b[39m []\n\u001b[1;32m----> 2\u001b[0m \u001b[38;5;28;01mwith\u001b[39;00m \u001b[38;5;28mopen\u001b[39m(\u001b[38;5;124m'\u001b[39m\u001b[38;5;124mD:/Python nâng cao/Lab 2/DATA/diem_hoc_phan.csv\u001b[39m\u001b[38;5;124m'\u001b[39m, \u001b[38;5;124m'\u001b[39m\u001b[38;5;124mr\u001b[39m\u001b[38;5;124m'\u001b[39m, encoding\u001b[38;5;241m=\u001b[39m\u001b[38;5;124m'\u001b[39m\u001b[38;5;124mutf_8\u001b[39m\u001b[38;5;124m'\u001b[39m) \u001b[38;5;28;01mas\u001b[39;00m file:\n\u001b[0;32m      3\u001b[0m     \u001b[38;5;28;01mfor\u001b[39;00m line \u001b[38;5;129;01min\u001b[39;00m file:\n\u001b[0;32m      4\u001b[0m         lines \u001b[38;5;241m=\u001b[39m file\u001b[38;5;241m.\u001b[39mreadlines()\n",
      "File \u001b[1;32mc:\\Users\\user\\anaconda3\\Lib\\site-packages\\IPython\\core\\interactiveshell.py:324\u001b[0m, in \u001b[0;36m_modified_open\u001b[1;34m(file, *args, **kwargs)\u001b[0m\n\u001b[0;32m    317\u001b[0m \u001b[38;5;28;01mif\u001b[39;00m file \u001b[38;5;129;01min\u001b[39;00m {\u001b[38;5;241m0\u001b[39m, \u001b[38;5;241m1\u001b[39m, \u001b[38;5;241m2\u001b[39m}:\n\u001b[0;32m    318\u001b[0m     \u001b[38;5;28;01mraise\u001b[39;00m \u001b[38;5;167;01mValueError\u001b[39;00m(\n\u001b[0;32m    319\u001b[0m         \u001b[38;5;124mf\u001b[39m\u001b[38;5;124m\"\u001b[39m\u001b[38;5;124mIPython won\u001b[39m\u001b[38;5;124m'\u001b[39m\u001b[38;5;124mt let you open fd=\u001b[39m\u001b[38;5;132;01m{\u001b[39;00mfile\u001b[38;5;132;01m}\u001b[39;00m\u001b[38;5;124m by default \u001b[39m\u001b[38;5;124m\"\u001b[39m\n\u001b[0;32m    320\u001b[0m         \u001b[38;5;124m\"\u001b[39m\u001b[38;5;124mas it is likely to crash IPython. If you know what you are doing, \u001b[39m\u001b[38;5;124m\"\u001b[39m\n\u001b[0;32m    321\u001b[0m         \u001b[38;5;124m\"\u001b[39m\u001b[38;5;124myou can use builtins\u001b[39m\u001b[38;5;124m'\u001b[39m\u001b[38;5;124m open.\u001b[39m\u001b[38;5;124m\"\u001b[39m\n\u001b[0;32m    322\u001b[0m     )\n\u001b[1;32m--> 324\u001b[0m \u001b[38;5;28;01mreturn\u001b[39;00m io_open(file, \u001b[38;5;241m*\u001b[39margs, \u001b[38;5;241m*\u001b[39m\u001b[38;5;241m*\u001b[39mkwargs)\n",
      "\u001b[1;31mFileNotFoundError\u001b[0m: [Errno 2] No such file or directory: 'D:/Python nâng cao/Lab 2/DATA/diem_hoc_phan.csv'"
     ]
    }
   ],
   "source": [
    "diem = []\n",
    "with open('D:/Python nâng cao/Lab 2/DATA/diem_hoc_phan.csv', 'r', encoding='utf_8') as file:\n",
    "    for line in file:\n",
    "        lines = file.readlines()\n",
    "    \n",
    "    for line in lines:\n",
    "        diem_hoc_phan = line.strip().split(',')\n",
    "        diem.append(diem_hoc_phan)\n",
    "        print(diem_hoc_phan)"
   ]
  },
  {
   "cell_type": "code",
   "execution_count": 6,
   "metadata": {},
   "outputs": [],
   "source": [
    "mang_diem = np.array(diem)"
   ]
  },
  {
   "cell_type": "markdown",
   "metadata": {},
   "source": [
    "2. Qui đổi từ thang điểm 10 sang điểm tín chỉ"
   ]
  },
  {
   "cell_type": "code",
   "execution_count": 7,
   "metadata": {},
   "outputs": [
    {
     "name": "stdout",
     "output_type": "stream",
     "text": [
      "Điểm tín chỉ sau khi qui đổi:\n",
      "[['F' 'F' 'C+']\n",
      " ['C' 'F' 'C+']\n",
      " ['F' 'F' 'A']\n",
      " ['F' 'A' 'A']\n",
      " ['A' 'A' 'F']\n",
      " ['F' 'D' 'F']\n",
      " ['F' 'F' 'C+']\n",
      " ['F' 'F' 'D']\n",
      " ['F' 'F' 'D']\n",
      " ['B' 'A' 'A']\n",
      " ['F' 'D' 'C']\n",
      " ['F' 'B' 'D+']\n",
      " ['C+' 'B' 'F']\n",
      " ['A' 'D' 'F']\n",
      " ['B+' 'D+' 'D']\n",
      " ['F' 'A' 'C']\n",
      " ['F' 'C+' 'F']\n",
      " ['C' 'D' 'A']\n",
      " ['F' 'F' 'D']\n",
      " ['F' 'C+' 'F']\n",
      " ['C' 'B+' 'F']\n",
      " ['B+' 'F' 'F']\n",
      " ['A' 'D+' 'D+']\n",
      " ['F' 'D+' 'A']\n",
      " ['D' 'C' 'B+']\n",
      " ['D' 'F' 'D+']\n",
      " ['F' 'B+' 'A']\n",
      " ['A' 'B+' 'A']\n",
      " ['F' 'F' 'F']\n",
      " ['F' 'B' 'C']]\n"
     ]
    }
   ],
   "source": [
    "def qui_doi_diem_tin_chi(diem_so):\n",
    "    if 8.5 <= diem_so <= 10:\n",
    "        return 'A'\n",
    "    elif 8.0 <= diem_so <= 8.4:\n",
    "        return 'B+'\n",
    "    elif 7.0 <= diem_so < 8:\n",
    "        return 'B'\n",
    "    elif 6.5 <= diem_so < 7:\n",
    "        return 'C+'\n",
    "    elif 5.5 <= diem_so < 6:\n",
    "        return 'C'\n",
    "    elif 5.0 <= diem_so < 5.5:\n",
    "        return 'D+'\n",
    "    elif 4.0 <= diem_so < 5:\n",
    "        return 'D'\n",
    "    else:\n",
    "        return 'F'\n",
    "ham_qui_doi = np.vectorize(qui_doi_diem_tin_chi)\n",
    "diem_tin_chi_mang = ham_qui_doi(mang_diem[:, 2:].astype(float))\n",
    "print(\"Điểm tín chỉ sau khi qui đổi:\")\n",
    "print(diem_tin_chi_mang)\n"
   ]
  },
  {
   "cell_type": "markdown",
   "metadata": {},
   "source": [
    "3. Chia tách Dữ Liệu theo học phần để phân tích"
   ]
  },
  {
   "cell_type": "code",
   "execution_count": 8,
   "metadata": {},
   "outputs": [
    {
     "name": "stdout",
     "output_type": "stream",
     "text": [
      "[3.04 5.8  2.59 3.81 8.91 3.23 2.35 2.48 3.23 7.02 2.29 3.51 6.74 9.86\n",
      " 8.04 2.74 3.04 5.87 8.46 3.74 5.67 8.12 9.4  3.91 4.26 4.41 3.23 9.25\n",
      " 6.08 3.85]\n",
      "[3.39 6.41 3.57 8.78 9.64 4.72 3.29 3.81 2.61 9.01 4.48 7.19 7.78 4.64\n",
      " 5.12 8.88 6.88 4.41 2.63 6.71 8.05 2.46 5.31 5.09 5.78 2.66 8.3  8.29\n",
      " 2.67 7.71]\n",
      "[6.7  6.62 9.16 9.24 6.39 6.17 6.89 4.84 4.52 9.15 5.51 5.13 6.19 3.33\n",
      " 4.77 5.8  3.91 8.84 4.91 3.44 6.03 3.87 5.13 8.82 8.14 5.4  8.64 9.1\n",
      " 6.39 5.75]\n"
     ]
    }
   ],
   "source": [
    "diem_hp1 = mang_diem[:, 2].astype(float)\n",
    "diem_hp2 = mang_diem[:, 3].astype(float)\n",
    "diem_hp3 = mang_diem[:, 4].astype(float)\n",
    "print(diem_hp1)\n",
    "print(diem_hp2)\n",
    "print(diem_hp3)"
   ]
  },
  {
   "cell_type": "markdown",
   "metadata": {},
   "source": [
    "4. Phân tích dữ liệu theo từng học phần"
   ]
  },
  {
   "cell_type": "code",
   "execution_count": 9,
   "metadata": {},
   "outputs": [
    {
     "name": "stdout",
     "output_type": "stream",
     "text": [
      "Phân tích điểm HP1:\n",
      "Tổng điểm: 154.92999999999998\n",
      "Điểm trung bình: 5.1643333333333326\n",
      "Độ lệch chuẩn: 2.4078519934211533\n",
      "\n",
      "\n",
      "Phân tích điểm HP2:\n",
      "Tổng điểm: 170.27\n",
      "Điểm trung bình: 5.675666666666667\n",
      "Độ lệch chuẩn: 2.2494765070023637\n",
      "\n",
      "\n",
      "Phân tích điểm HP3:\n",
      "Tổng điểm: 188.78\n",
      "Điểm trung bình: 6.292666666666666\n",
      "Độ lệch chuẩn: 1.8082292135923723\n",
      "\n",
      "\n"
     ]
    }
   ],
   "source": [
    "def phan_tich_diem(diem_hp, ten_hp):\n",
    "    tong_diem_hp = np.sum(diem_hp)\n",
    "    diem_trung_binh_hp = np.mean(diem_hp)\n",
    "    do_lech_chuan_hp = np.std(diem_hp) \n",
    "\n",
    "    print(f\"Phân tích điểm {ten_hp}:\")\n",
    "    print(f\"Tổng điểm: {tong_diem_hp}\")\n",
    "    print(f\"Điểm trung bình: {diem_trung_binh_hp}\")\n",
    "    print(f\"Độ lệch chuẩn: {do_lech_chuan_hp}\")\n",
    "    print(\"\\n\")\n",
    "\n",
    "phan_tich_diem(diem_hp1, 'HP1')\n",
    "phan_tich_diem(diem_hp2, 'HP2')\n",
    "phan_tich_diem(diem_hp3, 'HP3')"
   ]
  },
  {
   "cell_type": "markdown",
   "metadata": {},
   "source": [
    "5. Kết hợp dữ liệu để phân tích tổng quan"
   ]
  },
  {
   "cell_type": "code",
   "execution_count": 10,
   "metadata": {},
   "outputs": [
    {
     "name": "stdout",
     "output_type": "stream",
     "text": [
      "Phân tích tổng quan:\n",
      "Tổng điểm tất cả học phần: 513.98\n",
      "Điểm trung bình tất cả học phần: 5.710888888888889\n",
      "Độ lệch chuẩn tất cả học phần: 2.2185594146975665\n"
     ]
    }
   ],
   "source": [
    "tong_diem_tat_ca_hp = np.sum(mang_diem[:, 2:5].astype(float))\n",
    "trung_binh_tat_ca_hp = np.mean(mang_diem[:, 2:5].astype(float))\n",
    "do_lech_chuan_tat_ca_hp = np.std(mang_diem[:, 2:5].astype(float)) \n",
    "\n",
    "print(\"Phân tích tổng quan:\")\n",
    "print(f\"Tổng điểm tất cả học phần: {tong_diem_tat_ca_hp}\")\n",
    "print(f\"Điểm trung bình tất cả học phần: {trung_binh_tat_ca_hp}\")\n",
    "print(f\"Độ lệch chuẩn tất cả học phần: {do_lech_chuan_tat_ca_hp}\")"
   ]
  }
 ],
 "metadata": {
  "kernelspec": {
   "display_name": "base",
   "language": "python",
   "name": "python3"
  },
  "language_info": {
   "codemirror_mode": {
    "name": "ipython",
    "version": 3
   },
   "file_extension": ".py",
   "mimetype": "text/x-python",
   "name": "python",
   "nbconvert_exporter": "python",
   "pygments_lexer": "ipython3",
   "version": "3.12.4"
  }
 },
 "nbformat": 4,
 "nbformat_minor": 2
}
